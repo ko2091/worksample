{
 "cells": [
  {
   "cell_type": "markdown",
   "metadata": {},
   "source": [
    "#問題１　べき乗の算術演算しを利用して作成"
   ]
  },
  {
   "cell_type": "code",
   "execution_count": 38,
   "metadata": {},
   "outputs": [
    {
     "name": "stdout",
     "output_type": "stream",
     "text": [
      "厚さ： 703687441.77664メートル\n"
     ]
    }
   ],
   "source": [
    "THICKNESS = 0.00008\n",
    "folded_thickness = THICKNESS*2**43\n",
    "print(\"厚さ： {}メートル\".format(folded_thickness))\n"
   ]
  },
  {
   "cell_type": "markdown",
   "metadata": {},
   "source": [
    "#問題　２　単位の変換"
   ]
  },
  {
   "cell_type": "code",
   "execution_count": 37,
   "metadata": {},
   "outputs": [
    {
     "name": "stdout",
     "output_type": "stream",
     "text": [
      "厚さ： 70.37万キロメートル\n"
     ]
    }
   ],
   "source": [
    "print(\"厚さ： {:.2f}万キロメートル\".format(folded_thickness/10000000))\n"
   ]
  },
  {
   "cell_type": "markdown",
   "metadata": {},
   "source": [
    "#問題３ for 文を用いた計算"
   ]
  },
  {
   "cell_type": "code",
   "execution_count": 36,
   "metadata": {},
   "outputs": [
    {
     "name": "stdout",
     "output_type": "stream",
     "text": [
      "厚さ： 70.37万キロメートル\n"
     ]
    }
   ],
   "source": [
    "THICKNESS = 0.00008\n",
    "for i in range(1,44,1):\n",
    "    folded_thickness = THICKNESS*2\n",
    "    THICKNESS= folded_thickness\n",
    "print(\"厚さ： {:.2f}万キロメートル\".format(folded_thickness/10000000))\n"
   ]
  },
  {
   "cell_type": "markdown",
   "metadata": {},
   "source": [
    "#問題３　他のやり方　"
   ]
  },
  {
   "cell_type": "code",
   "execution_count": 35,
   "metadata": {},
   "outputs": [
    {
     "name": "stdout",
     "output_type": "stream",
     "text": [
      "厚さ： 70.37万キロメートル\n"
     ]
    }
   ],
   "source": [
    "THICKNESS = 0.00008\n",
    "for i in range(1,44,1):\n",
    "    THICKNESS  *= 2\n",
    "print(\"厚さ： {:.2f}万キロメートル\".format(THICKNESS /10000000))\n"
   ]
  },
  {
   "cell_type": "markdown",
   "metadata": {},
   "source": [
    "#問題３　他のやり方２ "
   ]
  },
  {
   "cell_type": "code",
   "execution_count": 34,
   "metadata": {},
   "outputs": [
    {
     "name": "stdout",
     "output_type": "stream",
     "text": [
      "厚さ： 70.37万キロメートル\n"
     ]
    }
   ],
   "source": [
    "import numpy as np\n",
    " \n",
    "a = np.power(2,43 )\n",
    "b = 0.00008\n",
    "b *= a\n",
    "print(\"厚さ： {:.2f}万キロメートル\".format(b /10000000))\n"
   ]
  },
  {
   "cell_type": "markdown",
   "metadata": {},
   "source": [
    "#問題３　他のやり方３　べき乗の係数が偶数なら、xを二倍して、nを半分にする\n"
   ]
  },
  {
   "cell_type": "code",
   "execution_count": 4,
   "metadata": {},
   "outputs": [
    {
     "name": "stdout",
     "output_type": "stream",
     "text": [
      "厚さ： 70.37万キロメートル\n"
     ]
    }
   ],
   "source": [
    "def pow_k(x, n):\n",
    "    \"\"\"\n",
    "    O(log n)\n",
    "    \"\"\"\n",
    "    if n == 0:\n",
    "        return 1\n",
    "\n",
    "    K = 1\n",
    "    while n > 1:\n",
    "        if n % 2 != 0:\n",
    "            K *= x\n",
    "        x *= x\n",
    "        n //= 2\n",
    "\n",
    "    return K * x\n",
    "a = pow_k(2,43)\n",
    "b = 0.00008\n",
    "c = a*b\n",
    "print(\"厚さ： {:.2f}万キロメートル\".format(c /10000000))\n"
   ]
  },
  {
   "cell_type": "markdown",
   "metadata": {},
   "source": [
    "#問題４　計算時間の比較"
   ]
  },
  {
   "cell_type": "code",
   "execution_count": 32,
   "metadata": {},
   "outputs": [
    {
     "name": "stdout",
     "output_type": "stream",
     "text": [
      "厚さ： 70.37万キロメートル\n",
      "time : 0.00034689903259277344[s]\n"
     ]
    }
   ],
   "source": [
    "import time\n",
    "start = time.time()\n",
    "THICKNESS = 0.00008\n",
    "folded_thickness = THICKNESS*2**43\n",
    "print(\"厚さ： {:.2f}万キロメートル\".format(folded_thickness/10000000))\n",
    "elapsed_time = time.time() - start\n",
    "print(\"time : {}[s]\".format(elapsed_time))"
   ]
  },
  {
   "cell_type": "markdown",
   "metadata": {},
   "source": [
    "#POWを使った速度"
   ]
  },
  {
   "cell_type": "code",
   "execution_count": 31,
   "metadata": {},
   "outputs": [
    {
     "name": "stdout",
     "output_type": "stream",
     "text": [
      "厚さ： 70.37万キロメートル\n",
      "time : 0.0006709098815917969[s]\n"
     ]
    }
   ],
   "source": [
    "# //POWでの計算\n",
    "import time\n",
    "import math\n",
    "start = time.time()\n",
    "THICKNESS = 0.00008\n",
    "folded_thickness = THICKNESS * math.pow(2,43)\n",
    "print(\"厚さ： {:.2f}万キロメートル\".format(folded_thickness/10000000))\n",
    "elapsed_time = time.time() - start\n",
    "print(\"time : {}[s]\".format(elapsed_time))"
   ]
  },
  {
   "cell_type": "markdown",
   "metadata": {},
   "source": [
    "#for文での速度"
   ]
  },
  {
   "cell_type": "code",
   "execution_count": 30,
   "metadata": {},
   "outputs": [
    {
     "name": "stdout",
     "output_type": "stream",
     "text": [
      "厚さ： 70.37万キロメートル\n",
      "time : 0.00037932395935058594[s]\n"
     ]
    }
   ],
   "source": [
    "import time\n",
    "start = time.time()\n",
    "THICKNESS = 0.00008\n",
    "for i in range(1,44,1):\n",
    "    folded_thickness = THICKNESS*2\n",
    "    THICKNESS= folded_thickness\n",
    "print(\"厚さ： {:.2f}万キロメートル\".format(folded_thickness/10000000))\n",
    "elapsed_time = time.time() - start\n",
    "print(\"time : {}[s]\".format(elapsed_time))"
   ]
  },
  {
   "cell_type": "raw",
   "metadata": {},
   "source": [
    "#他のやり方３　の速度"
   ]
  },
  {
   "cell_type": "code",
   "execution_count": 3,
   "metadata": {},
   "outputs": [
    {
     "name": "stdout",
     "output_type": "stream",
     "text": [
      "厚さ： 70.37万キロメートル\n",
      "time : 0.0006079673767089844[s]\n"
     ]
    }
   ],
   "source": [
    "import time\n",
    "start = time.time()\n",
    "\n",
    "def pow_k(x, n):\n",
    "    \"\"\"\n",
    "    O(log n)\n",
    "    \"\"\"\n",
    "    if n == 0:\n",
    "        return 1\n",
    "\n",
    "    K = 1\n",
    "    while n > 1:\n",
    "        if n % 2 != 0:\n",
    "            K *= x\n",
    "        x *= x\n",
    "        n //= 2\n",
    "\n",
    "    return K * x\n",
    "a = pow_k(2,43)\n",
    "b = 0.00008\n",
    "c = a*b\n",
    "print(\"厚さ： {:.2f}万キロメートル\".format(c /10000000))\n",
    "\n",
    "elapsed_time = time.time() - start\n",
    "print(\"time : {}[s]\".format(elapsed_time))\n"
   ]
  },
  {
   "cell_type": "markdown",
   "metadata": {},
   "source": [
    "#結論：for文を用いたほうが計算結果時間は短いため、for文の方がいいということになる"
   ]
  },
  {
   "cell_type": "markdown",
   "metadata": {},
   "source": [
    "#課題５　リストへの保存"
   ]
  },
  {
   "cell_type": "code",
   "execution_count": 43,
   "metadata": {},
   "outputs": [
    {
     "data": {
      "text/plain": [
       "44"
      ]
     },
     "execution_count": 43,
     "metadata": {},
     "output_type": "execute_result"
    }
   ],
   "source": [
    "list=[]\n",
    "THICKNESS = 0.00008\n",
    "list.append(THICKNESS)\n",
    "\n",
    "for i in range(1,44,1):\n",
    "    THICKNESS *= 2\n",
    "    list.append(THICKNESS)\n",
    "\n",
    "len(list)\n",
    "# print(list)\n",
    "    "
   ]
  },
  {
   "cell_type": "markdown",
   "metadata": {},
   "source": [
    "#問題６　折れ線グラフの表示"
   ]
  },
  {
   "cell_type": "code",
   "execution_count": 68,
   "metadata": {},
   "outputs": [
    {
     "data": {
      "text/plain": [
       "[<matplotlib.lines.Line2D at 0x11e183ef0>]"
      ]
     },
     "execution_count": 68,
     "metadata": {},
     "output_type": "execute_result"
    },
    {
     "data": {
      "image/png": "[encoded data removed]",
      "text/plain": [
       "<Figure size 432x288 with 1 Axes>"
      ]
     },
     "metadata": {
      "needs_background": "light"
     },
     "output_type": "display_data"
    }
   ],
   "source": [
    "\"\"\"\n",
    "グラフを表示する。タイトルと軸ラベル名付き。\n",
    "\"\"\"\n",
    "\n",
    "import matplotlib.pyplot as plt\n",
    "%matplotlib inline\n",
    "\n",
    "plt.title(\"thickness of folded paper\")\n",
    "plt.xlabel(\"number of folds\")\n",
    "plt.ylabel(\"thickness[m]\")\n",
    "\n",
    "plt.plot(list) # 「リスト名」のところにリストの変数名を入れる"
   ]
  },
  {
   "cell_type": "markdown",
   "metadata": {},
   "source": [
    "#グラフから、厚さは紙を折る回数が４０回付近から急激に上昇していることがわかる"
   ]
  },
  {
   "cell_type": "markdown",
   "metadata": {},
   "source": [
    "#問題７　グラフのカスタマイズ"
   ]
  },
  {
   "cell_type": "markdown",
   "metadata": {},
   "source": [
    "#グラフ１　線の色を変更したグラフ"
   ]
  },
  {
   "cell_type": "code",
   "execution_count": 69,
   "metadata": {},
   "outputs": [
    {
     "data": {
      "text/plain": [
       "[<matplotlib.lines.Line2D at 0x11e1dcda0>]"
      ]
     },
     "execution_count": 69,
     "metadata": {},
     "output_type": "execute_result"
    },
    {
     "data": {
      "image/png": "[encoded data removed]",
      "text/plain": [
       "<Figure size 432x288 with 1 Axes>"
      ]
     },
     "metadata": {
      "needs_background": "light"
     },
     "output_type": "display_data"
    }
   ],
   "source": [
    "\"\"\"\n",
    "黄色い折れ線グラフを表示する。\n",
    "\"\"\"\n",
    "plt.title(\"thickness of folded paper\")\n",
    "plt.xlabel(\"number of folds\")\n",
    "plt.ylabel(\"thickness[m]\")\n",
    "plt.plot(list, color='yellow')\n"
   ]
  },
  {
   "cell_type": "markdown",
   "metadata": {},
   "source": [
    "#グラフ２　軸の値の大きさを変更したグラフ"
   ]
  },
  {
   "cell_type": "code",
   "execution_count": 95,
   "metadata": {
    "scrolled": true
   },
   "outputs": [
    {
     "data": {
      "text/plain": [
       "[<matplotlib.lines.Line2D at 0x11ebaada0>]"
      ]
     },
     "execution_count": 95,
     "metadata": {},
     "output_type": "execute_result"
    },
    {
     "data": {
      "image/png": "[encoded data removed]",
      "text/plain": [
       "<Figure size 432x288 with 1 Axes>"
      ]
     },
     "metadata": {
      "needs_background": "light"
     },
     "output_type": "display_data"
    }
   ],
   "source": [
    "\"\"\"\n",
    "軸の値を大きく表示する。\n",
    "\"\"\"\n",
    "plt.title(\"thickness of folded paper\")\n",
    "plt.xlabel(\"number of folds\")\n",
    "plt.ylabel(\"thickness[m]\")\n",
    "plt.tick_params(labelsize=35) # 軸の値に関する設定を行う\n",
    "plt.plot(list)"
   ]
  },
  {
   "cell_type": "markdown",
   "metadata": {},
   "source": [
    "#グラフ３　アレンジグラフ"
   ]
  },
  {
   "cell_type": "code",
   "execution_count": 96,
   "metadata": {
    "scrolled": false
   },
   "outputs": [
    {
     "data": {
      "image/png": "[encoded data removed]",
      "text/plain": [
       "<Figure size 432x288 with 1 Axes>"
      ]
     },
     "metadata": {
      "needs_background": "light"
     },
     "output_type": "display_data"
    }
   ],
   "source": [
    "import numpy as np\n",
    "import matplotlib.pyplot as plt\n",
    "plt.title(\"thickness of folded paper\")\n",
    "plt.xlabel(\"number of folds\")\n",
    "plt.ylabel(\"thickness[m]\")\n",
    "x = np.linspace(0,100,101)\n",
    "y = list\n",
    "plt.plot(list,label=\"thickness\" , antialiased=False,alpha=0.5,marker='o',ls=':')\n",
    "plt.tick_params(labelsize=20) # 軸の値に関する設定を行う\n",
    "\n",
    "plt.legend()\n",
    "plt.show()"
   ]
  },
  {
   "cell_type": "markdown",
   "metadata": {},
   "source": [
    "## 改善案\n",
    "\n",
    "べき乗計算で４３乗よりももっと大きな数の方が、速度を表示した際に書き方の違いによって速度の変化がわかりやすくなるのではないかと思いました。\n",
    "\n",
    "グラフをカスタマイズする際に、様々にカスタマイズしていく、という指示のみではなく、どのようなことをグラフで強調したいのか、をいくつか提示し、それぞれに対応したグラフを作成する。といった方が、グラフをカスタマイズする上でより良いのではないかと思いました。"
   ]
  }
 ],
 "metadata": {
  "kernelspec": {
   "display_name": "Python 3",
   "language": "python",
   "name": "python3"
  },
  "language_info": {
   "codemirror_mode": {
    "name": "ipython",
    "version": 3
   },
   "file_extension": ".py",
   "mimetype": "text/x-python",
   "name": "python",
   "nbconvert_exporter": "python",
   "pygments_lexer": "ipython3",
   "version": "3.7.3"
  }
 },
 "nbformat": 4,
 "nbformat_minor": 2
}
